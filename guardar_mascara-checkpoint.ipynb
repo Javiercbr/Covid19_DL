{
 "cells": [
  {
   "cell_type": "code",
   "execution_count": null,
   "metadata": {},
   "outputs": [],
   "source": [
    "from lungmask import mask\n",
    "import SimpleITK as sitk\n",
    "import numpy as np\n",
    "import pandas as pd\n",
    "import os, os.path\n",
    "import matplotlib.pyplot as plt\n",
    "from sklearn.model_selection import train_test_split\n",
    "\n",
    " \n",
    "\n",
    "\n",
    "\n",
    "DIR = 'C:/Users/javie/Documents/Covid19/Proyecto_clasificacion_CT_3/DBnii/'\n",
    "\n",
    " \n",
    "writer = sitk.ImageFileWriter()\n",
    "\n",
    " \n",
    "img = sitk.ReadImage(DIR + 'IM0044_cruda' +'.nii')\n",
    "        \n",
    "segmentation = mask.apply(img,batch_size=1) \n",
    "mascara    = sitk.GetImageFromArray(255*(segmentation>0).astype(float))\n",
    "mascara = sitk.Cast(mascara, sitk.sitkUInt8)\n",
    "writer.SetFileName(DIR +'IM0044_mascara'+'.png')\n",
    "writer.Execute(mascara)\n",
    "\n",
    "img = sitk.ReadImage(DIR + 'IM0635_cruda' +'.nii')\n",
    "        \n",
    "segmentation = mask.apply(img,batch_size=1) \n",
    "mascara    = sitk.GetImageFromArray(255*(segmentation>0).astype(float))\n",
    "mascara = sitk.Cast(mascara, sitk.sitkUInt8)\n",
    "writer.SetFileName(DIR + 'IM0635_mascara'+'.png')\n",
    "writer.Execute(mascara)\n"
   ]
  }
 ],
 "metadata": {
  "kernelspec": {
   "display_name": "Python 3",
   "language": "python",
   "name": "python3"
  },
  "language_info": {
   "codemirror_mode": {
    "name": "ipython",
    "version": 3
   },
   "file_extension": ".py",
   "mimetype": "text/x-python",
   "name": "python",
   "nbconvert_exporter": "python",
   "pygments_lexer": "ipython3",
   "version": "3.8.3"
  }
 },
 "nbformat": 4,
 "nbformat_minor": 4
}
