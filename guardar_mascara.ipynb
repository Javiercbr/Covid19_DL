{
 "cells": [
  {
   "cell_type": "code",
   "execution_count": 18,
   "metadata": {},
   "outputs": [
    {
     "name": "stderr",
     "output_type": "stream",
     "text": [
      "100%|████████████████████████████████████████████████████████████████████████████████████| 1/1 [00:01<00:00,  1.30s/it]\n",
      "100%|██████████████████████████████████████████████████████████████████████████████████| 2/2 [00:00<00:00, 2007.80it/s]\n",
      "100%|████████████████████████████████████████████████████████████████████████████████████| 1/1 [00:01<00:00,  1.56s/it]\n",
      "100%|████████████████████████████████████████████████████████████████████████████████████████████| 2/2 [00:00<?, ?it/s]\n"
     ]
    }
   ],
   "source": [
    "from lungmask import mask\n",
    "import SimpleITK as sitk\n",
    "import numpy as np\n",
    "import pandas as pd\n",
    "import os, os.path\n",
    "import matplotlib.pyplot as plt\n",
    "from sklearn.model_selection import train_test_split\n",
    "\n",
    " \n",
    "\n",
    "\n",
    "\n",
    "DIR = 'C:/Users/javie/Documents/Covid19/Proyecto_clasificacion_CT_3/DBnii/'\n",
    "\n",
    " \n",
    "writer = sitk.ImageFileWriter()\n",
    "\n",
    " \n",
    "img = sitk.ReadImage(DIR + 'IM0044_cruda' +'.nii')\n",
    "        \n",
    "segmentation = mask.apply(img,batch_size=1) \n",
    "\n",
    "a = (segmentation>0).astype(float)\n",
    "a = np.transpose(a,  (1, 2, 0))\n",
    "b = np.zeros((a.shape))\n",
    "a = np.stack( (158*a,229*a,218*a),axis=2)\n",
    "a = a [:,:,:, 0]\n",
    "mascara    = sitk.GetImageFromArray(a, isVector=True)\n",
    "mascara = sitk.Cast(mascara, sitk.sitkVectorUInt8)\n",
    "writer.SetFileName(DIR +'IM0044_mascara'+'.png')\n",
    "writer.Execute(mascara)\n",
    "\n",
    "\n",
    "\n",
    "img = sitk.ReadImage(DIR + 'IM0635_cruda' +'.nii')\n",
    "        \n",
    "segmentation = mask.apply(img,batch_size=1) \n",
    "a = (segmentation>0).astype(float)\n",
    "a = np.transpose(a,  (1, 2, 0))\n",
    "b = np.zeros((a.shape))\n",
    "a = np.stack( (158*a,229*a,218*a),axis=2)\n",
    "a = a [:,:,:, 0]\n",
    "mascara    = sitk.GetImageFromArray(a, isVector=True)\n",
    "mascara    = sitk.GetImageFromArray(a, isVector=True)\n",
    "mascara = sitk.Cast(mascara, sitk.sitkVectorUInt8)\n",
    "writer.SetFileName(DIR +'IM0635_mascara'+'.png')\n",
    "writer.Execute(mascara)\n",
    "\n",
    "\n",
    "# img = sitk.ReadImage(DIR + 'IM0635_cruda' +'.nii')\n",
    "        \n",
    "# segmentation = mask.apply(img,batch_size=1) \n",
    "# mascara    = sitk.GetImageFromArray(255*(segmentation>0).astype(float))\n",
    "# mascara = sitk.Cast(mascara, sitk.sitkUInt8)\n",
    "# writer.SetFileName(DIR + 'IM0635_mascara'+'.png')\n",
    "# writer.Execute(mascara)\n"
   ]
  },
  {
   "cell_type": "code",
   "execution_count": null,
   "metadata": {},
   "outputs": [],
   "source": []
  }
 ],
 "metadata": {
  "kernelspec": {
   "display_name": "Python 3",
   "language": "python",
   "name": "python3"
  },
  "language_info": {
   "codemirror_mode": {
    "name": "ipython",
    "version": 3
   },
   "file_extension": ".py",
   "mimetype": "text/x-python",
   "name": "python",
   "nbconvert_exporter": "python",
   "pygments_lexer": "ipython3",
   "version": "3.8.3"
  }
 },
 "nbformat": 4,
 "nbformat_minor": 4
}
